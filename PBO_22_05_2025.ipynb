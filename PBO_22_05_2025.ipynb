{
  "nbformat": 4,
  "nbformat_minor": 0,
  "metadata": {
    "colab": {
      "provenance": [],
      "authorship_tag": "ABX9TyO11vP9XEyDINtpuS2GKu4X",
      "include_colab_link": true
    },
    "kernelspec": {
      "name": "python3",
      "display_name": "Python 3"
    },
    "language_info": {
      "name": "python"
    }
  },
  "cells": [
    {
      "cell_type": "markdown",
      "metadata": {
        "id": "view-in-github",
        "colab_type": "text"
      },
      "source": [
        "<a href=\"https://colab.research.google.com/github/MuhammadRajaHazmi/Praktikum_PBO_U423/blob/main/PBO_22_05_2025.ipynb\" target=\"_parent\"><img src=\"https://colab.research.google.com/assets/colab-badge.svg\" alt=\"Open In Colab\"/></a>"
      ]
    },
    {
      "cell_type": "code",
      "execution_count": 3,
      "metadata": {
        "colab": {
          "base_uri": "https://localhost:8080/"
        },
        "id": "thdUE4QohQpa",
        "outputId": "645ab45c-becc-499c-cf9a-4d01936d4636"
      },
      "outputs": [
        {
          "output_type": "stream",
          "name": "stdout",
          "text": [
            "Car Info:\n",
            "Brand: Ford\n",
            "Model: Focus\n",
            "Year: 2008\n",
            "Number of Doors: 5\n",
            "Number of Wheels: 4\n",
            "Ford Focus is starting...\n",
            "\n",
            "Bike Info:\n",
            "Brand: Honda\n",
            "Model: Scoopy\n",
            "Year: 2018\n",
            "Number of Wheels: 2\n",
            "Honda Scoopy is starting...\n"
          ]
        }
      ],
      "source": [
        "# Class induk Vehicle\n",
        "class Vehicle:\n",
        "    def __init__(self, brand, model, year):\n",
        "        self.brand = brand\n",
        "        self.model = model\n",
        "        self.year = year\n",
        "\n",
        "    def start(self):\n",
        "        print(f\"{self.brand} {self.model} is starting...\")\n",
        "\n",
        "    def stop(self):\n",
        "        print(f\"{self.brand} {self.model} is stopping...\")\n",
        "\n",
        "    # Method baru untuk menampilkan informasi dasar kendaraan\n",
        "    def display_info(self):\n",
        "        print(f\"Brand: {self.brand}\")\n",
        "        print(f\"Model: {self.model}\")\n",
        "        print(f\"Year: {self.year}\")\n",
        "\n",
        "\n",
        "# Class turunan Car\n",
        "class Car(Vehicle):\n",
        "    def __init__(self, brand, model, year, number_of_doors, number_of_wheels):\n",
        "        super().__init__(brand, model, year)\n",
        "        self.number_of_doors = number_of_doors\n",
        "        self.number_of_wheels = number_of_wheels\n",
        "\n",
        "    # Method tambahan khusus mobil\n",
        "    def car_info(self):\n",
        "        self.display_info()\n",
        "        print(f\"Number of Doors: {self.number_of_doors}\")\n",
        "        print(f\"Number of Wheels: {self.number_of_wheels}\")\n",
        "\n",
        "\n",
        "# Class turunan Bike\n",
        "class Bike(Vehicle):\n",
        "    def __init__(self, brand, model, year, number_of_wheels):\n",
        "        super().__init__(brand, model, year)\n",
        "        self.number_of_wheels = number_of_wheels\n",
        "\n",
        "    # Method tambahan khusus motor\n",
        "    def bike_info(self):\n",
        "        self.display_info()\n",
        "        print(f\"Number of Wheels: {self.number_of_wheels}\")\n",
        "\n",
        "\n",
        "# Membuat objek\n",
        "car = Car(\"Ford\", \"Focus\", 2008, 5, 4)\n",
        "bike = Bike(\"Honda\", \"Scoopy\", 2018, 2)\n",
        "\n",
        "# Menampilkan informasi lengkap\n",
        "print(\"Car Info:\")\n",
        "car.car_info()\n",
        "car.start()\n",
        "\n",
        "print(\"\\nBike Info:\")\n",
        "bike.bike_info()\n",
        "bike.start()\n"
      ]
    },
    {
      "cell_type": "code",
      "source": [
        "class Shape:\n",
        "    def area(self):\n",
        "        return \"Undefined\"\n",
        "\n",
        "class Rectangle(Shape):\n",
        "    def __init__(self, length, width):\n",
        "        self.length = length\n",
        "        self.width = width\n",
        "\n",
        "    def area(self):\n",
        "        return self.length * self.width\n",
        "\n",
        "class Circle(Shape):\n",
        "    def __init__(self, radius):\n",
        "        self.radius = radius\n",
        "\n",
        "    def area(self):\n",
        "        return 3.14 * self.radius ** 2\n",
        "\n",
        "shapes = [Rectangle(2, 3), Circle(5)]\n",
        "for shape in shapes:\n",
        "    print(f\"Area: {shape.area()}\")"
      ],
      "metadata": {
        "colab": {
          "base_uri": "https://localhost:8080/"
        },
        "id": "3d090oJxhbFz",
        "outputId": "29311b6a-fe5b-4b2a-9809-6d4747fb5c53"
      },
      "execution_count": 5,
      "outputs": [
        {
          "output_type": "stream",
          "name": "stdout",
          "text": [
            "Rectangle Area: 6\n",
            "Circle Area: 78.5\n",
            "Triangle Area: 12.0\n"
          ]
        }
      ]
    }
  ]
}