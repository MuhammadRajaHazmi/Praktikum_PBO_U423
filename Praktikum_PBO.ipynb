{
  "nbformat": 4,
  "nbformat_minor": 0,
  "metadata": {
    "colab": {
      "provenance": [],
      "authorship_tag": "ABX9TyPdL/0KUBEaG9sMoVrj0y8G",
      "include_colab_link": true
    },
    "kernelspec": {
      "name": "python3",
      "display_name": "Python 3"
    },
    "language_info": {
      "name": "python"
    }
  },
  "cells": [
    {
      "cell_type": "markdown",
      "metadata": {
        "id": "view-in-github",
        "colab_type": "text"
      },
      "source": [
        "<a href=\"https://colab.research.google.com/github/MuhammadRajaHazmi/Praktikum_PBO_U423/blob/main/Praktikum_PBO.ipynb\" target=\"_parent\"><img src=\"https://colab.research.google.com/assets/colab-badge.svg\" alt=\"Open In Colab\"/></a>"
      ]
    },
    {
      "cell_type": "code",
      "execution_count": 6,
      "metadata": {
        "colab": {
          "base_uri": "https://localhost:8080/"
        },
        "id": "tb8uNoJrlIXT",
        "outputId": "179cdd8b-59df-4404-8609-b1de44e244e4"
      },
      "outputs": [
        {
          "output_type": "stream",
          "name": "stdout",
          "text": [
            "Namaku Buddy dan aku berumur 3 tahun.\n",
            "Umur Buddy sekarang telah diubah menjadi 4 tahun.\n",
            "Namaku Buddy dan aku berumur 4 tahun.\n"
          ]
        }
      ],
      "source": [
        "#init_method.py\n",
        "class Anjing:\n",
        "    def __init__(self, nama, umur):\n",
        "        self.nama = nama\n",
        "        self.umur = umur\n",
        "\n",
        "    def perkenalan(self):\n",
        "        print(f\"Namaku {self.nama} dan aku berumur {self.umur} tahun.\")\n",
        "\n",
        "    def ubah_umur(self, umur_baru):\n",
        "        self.umur = umur_baru\n",
        "        print(f\"Umur {self.nama} sekarang telah diubah menjadi {self.umur} tahun.\")\n",
        "anjing1 = Anjing(\"Buddy\", 3)\n",
        "anjing1.perkenalan()\n",
        "anjing1.ubah_umur(4)\n",
        "anjing1.perkenalan()\n"
      ]
    },
    {
      "cell_type": "code",
      "source": [
        "#init_method.py\n",
        "class Anjing:\n",
        "    spesies = \"Canine\"\n",
        "\n",
        "    def __init__(self, nama, umur):\n",
        "        self.nama = nama\n",
        "        self.umur = umur\n",
        "\n",
        "    def perkenalan(self):\n",
        "        print(f\"Namaku {self.nama}, umurku {self.umur} tahun.\")\n",
        "\n",
        "    @classmethod\n",
        "    def tampilkan_spesies(cls):\n",
        "        print(f\"Semua anjing termasuk dalam spesies: {cls.spesies}\")\n",
        "\n",
        "    @staticmethod\n",
        "    def apakah_anak_anjing(umur):\n",
        "        return umur < 2\n",
        "anjing1 = Anjing(\"Buddy\", 3)\n",
        "anjing2 = Anjing(\"Milo\", 1)\n",
        "\n",
        "anjing1.perkenalan()\n",
        "anjing2.perkenalan()\n",
        "\n",
        "Anjing.tampilkan_spesies()\n",
        "\n",
        "print(Anjing.apakah_anak_anjing(anjing1.umur))\n",
        "print(Anjing.apakah_anak_anjing(anjing2.umur))"
      ],
      "metadata": {
        "colab": {
          "base_uri": "https://localhost:8080/"
        },
        "id": "svj0n4Ltl7PM",
        "outputId": "e6d5b712-645f-4504-a688-3ffdbba7112c"
      },
      "execution_count": 7,
      "outputs": [
        {
          "output_type": "stream",
          "name": "stdout",
          "text": [
            "Namaku Buddy, umurku 3 tahun.\n",
            "Namaku Milo, umurku 1 tahun.\n",
            "Semua anjing termasuk dalam spesies: Canine\n",
            "False\n",
            "True\n"
          ]
        }
      ]
    },
    {
      "cell_type": "code",
      "source": [
        "#object.py\n",
        "class Dog:\n",
        "    species = \"Canine\"\n",
        "\n",
        "    def __init__(self, name, age):\n",
        "        self.name = name\n",
        "        self.age = age\n",
        "\n",
        "    def bark(self):\n",
        "        return f\"{self.name} says: Woof!\"\n",
        "\n",
        "    def get_human_years(self):\n",
        "        return self.age * 7\n",
        "\n",
        "    def description(self):\n",
        "        return f\"{self.name} is {self.age} years old.\"\n",
        "\n",
        "dog1 = Dog(\"Buddy\", 3)\n",
        "dog2 = Dog(\"Lucy\", 5)\n",
        "dog3 = Dog(\"Charlie\", 2)\n",
        "\n",
        "print(dog1.name)\n",
        "print(dog1.species)\n",
        "print(dog1.bark())\n",
        "print(dog1.description())\n",
        "print(f\"Umur manusia versi {dog1.name}: {dog1.get_human_years()} tahun\")\n",
        "\n",
        "dog_list = [dog1, dog2, dog3]\n",
        "\n",
        "print(\"\\n--- Daftar Anjing ---\")\n",
        "for dog in dog_list:\n",
        "    print(f\"{dog.name} ({dog.age} tahun) - {dog.bark()} - Umur manusia: {dog.get_human_years()} tahun\")\n"
      ],
      "metadata": {
        "colab": {
          "base_uri": "https://localhost:8080/"
        },
        "id": "fjgUqGVjna4u",
        "outputId": "a50839a6-42c9-4d73-a9f1-c3925f1d3a57"
      },
      "execution_count": 8,
      "outputs": [
        {
          "output_type": "stream",
          "name": "stdout",
          "text": [
            "Buddy\n",
            "Canine\n",
            "Buddy says: Woof!\n",
            "Buddy is 3 years old.\n",
            "Umur manusia versi Buddy: 21 tahun\n",
            "\n",
            "--- Daftar Anjing ---\n",
            "Buddy (3 tahun) - Buddy says: Woof! - Umur manusia: 21 tahun\n",
            "Lucy (5 tahun) - Lucy says: Woof! - Umur manusia: 35 tahun\n",
            "Charlie (2 tahun) - Charlie says: Woof! - Umur manusia: 14 tahun\n"
          ]
        }
      ]
    },
    {
      "cell_type": "code",
      "source": [
        "#pewarisan1.py\n",
        "class A:\n",
        "    def __init__(self):\n",
        "        self._a = 0\n",
        "\n",
        "    def setA(self, a):\n",
        "        self._a = a\n",
        "\n",
        "    def getA(self):\n",
        "        return self._a\n",
        "\n",
        "    def describe(self):\n",
        "        return f\"Ini dari class A, nilai a = {self._a}\"\n",
        "\n",
        "class B(A):\n",
        "    def __init__(self):\n",
        "        super().__init__()\n",
        "        self._b = 0\n",
        "\n",
        "    def setB(self, b):\n",
        "        self._b = b\n",
        "\n",
        "    def getB(self):\n",
        "        return self._b\n",
        "\n",
        "    def describe(self):\n",
        "        parent_desc = super().describe()\n",
        "        return f\"{parent_desc}, dan ini dari class B, nilai b = {self._b}\"\n",
        "\n",
        "obj = B()\n",
        "\n",
        "obj.setA(10)\n",
        "print(\"Nilai a:\", obj.getA())\n",
        "\n",
        "obj.setB(20)\n",
        "print(\"Nilai b:\", obj.getB())\n",
        "\n",
        "print(obj.describe())\n"
      ],
      "metadata": {
        "id": "Ft5Toah9oYpY"
      },
      "execution_count": null,
      "outputs": []
    },
    {
      "cell_type": "code",
      "source": [
        "#selfparamter.py\n",
        "class Dog:\n",
        "    species = \"Canine\"\n",
        "\n",
        "    def __init__(self, name, age):\n",
        "        self.name = name\n",
        "        self.age = age\n",
        "\n",
        "    def description(self):\n",
        "        return f\"{self.name} is {self.age} years old.\"\n",
        "\n",
        "    def speak(self, sound):\n",
        "        return f\"{self.name} says: {sound}\"\n",
        "\n",
        "dog1 = Dog(\"Buddy\", 3)\n",
        "dog2 = Dog(\"Charlie\", 5)\n",
        "\n",
        "print(dog1.name, dog1.age, dog1.species)\n",
        "print(dog2.name, dog2.age, dog2.species)\n",
        "print(Dog.species)\n",
        "\n",
        "print(dog1.description())\n",
        "print(dog2.description())\n",
        "\n",
        "print(dog1.speak(\"Woof!\"))\n",
        "print(dog2.speak(\"Arf!\"))\n",
        "\n",
        "dog2.species = \"AlienDog\"\n",
        "print(\"Dog1 species:\", dog1.species)\n",
        "print(\"Dog2 species:\", dog2.species)\n",
        "print(\"Dog class species:\", Dog.species)"
      ],
      "metadata": {
        "colab": {
          "base_uri": "https://localhost:8080/"
        },
        "id": "leVV317qomc5",
        "outputId": "8d200884-4500-4d92-f232-2625ed67714a"
      },
      "execution_count": 9,
      "outputs": [
        {
          "output_type": "stream",
          "name": "stdout",
          "text": [
            "Buddy 3 Canine\n",
            "Charlie 5 Canine\n",
            "Canine\n",
            "Buddy is 3 years old.\n",
            "Charlie is 5 years old.\n",
            "Buddy says: Woof!\n",
            "Charlie says: Arf!\n",
            "Dog1 species: Canine\n",
            "Dog2 species: AlienDog\n",
            "Dog class species: Canine\n"
          ]
        }
      ]
    }
  ]
}